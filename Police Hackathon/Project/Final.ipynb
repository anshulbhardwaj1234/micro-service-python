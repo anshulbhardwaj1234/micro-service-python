{
 "cells": [
  {
   "cell_type": "code",
   "execution_count": 6,
   "id": "1eaf0bc5-3692-4779-94e4-293b63343a46",
   "metadata": {},
   "outputs": [],
   "source": [
    "import pandas as pd\n",
    "from sklearn.model_selection import train_test_split\n",
    "from sklearn.feature_extraction.text import TfidfVectorizer\n",
    "from sklearn.naive_bayes import MultinomialNB\n",
    "from sklearn.pipeline import make_pipeline\n",
    "from sklearn import metrics"
   ]
  },
  {
   "cell_type": "code",
   "execution_count": 7,
   "id": "98230d2e-0367-4a67-8bfc-4e02b40d91df",
   "metadata": {},
   "outputs": [],
   "source": [
    "# Load FIR dataset\n",
    "fir_dataset = pd.read_csv('FIR_DATASET.csv') \n",
    "\n",
    "# Load IPC section and description dataset\n",
    "ipc_dataset = pd.read_excel('FF1.xlsx')\n"
   ]
  },
  {
   "cell_type": "code",
   "execution_count": 8,
   "id": "770cfd9e-ce21-4414-9119-160ce3415eb3",
   "metadata": {},
   "outputs": [],
   "source": [
    "fir_dataset = fir_dataset.replace('\\n',' ', regex=True)\n",
    "ipc_dataset = ipc_dataset.replace('\\n',' ', regex=True)"
   ]
  },
  {
   "cell_type": "code",
   "execution_count": 9,
   "id": "e5cfe1bb-7fdd-4e2f-b94d-434f8b27fe92",
   "metadata": {},
   "outputs": [],
   "source": [
    "fir_dataset = fir_dataset.replace('Description of IPC Section','', regex=True)\n",
    "ipc_dataset = ipc_dataset.replace('Description of IPC Section','', regex=True)"
   ]
  },
  {
   "cell_type": "code",
   "execution_count": 10,
   "id": "cc27a7ce-7616-4112-b532-b321fb673dfb",
   "metadata": {},
   "outputs": [],
   "source": [
    "fir_dataset = fir_dataset.replace('According to section','', regex=True)\n",
    "ipc_dataset = ipc_dataset.replace('According to section','', regex=True)"
   ]
  },
  {
   "cell_type": "code",
   "execution_count": 11,
   "id": "6cb538ad-0fcc-497e-810c-58bc82258cc1",
   "metadata": {},
   "outputs": [],
   "source": [
    "fir_dataset['Description'] = fir_dataset['Description'].str.split(n=1).str[1]\n",
    "ipc_dataset['Description'] = ipc_dataset['Description'].str.split(n=1).str[1]\n"
   ]
  },
  {
   "cell_type": "code",
   "execution_count": 12,
   "id": "6904156e-6f29-4a81-91ce-71c52c2861fe",
   "metadata": {},
   "outputs": [],
   "source": [
    "fir_dataset['Description'] = fir_dataset['Description'].str.split(n=1).str[1]\n",
    "ipc_dataset['Description'] = ipc_dataset['Description'].str.split(n=1).str[1]\n"
   ]
  },
  {
   "cell_type": "code",
   "execution_count": 13,
   "id": "f44b53a9-a9ea-4922-8791-37cda9c51ecb",
   "metadata": {},
   "outputs": [],
   "source": [
    "fir_dataset = fir_dataset.replace('of Indian penal code,','', regex=True)\n",
    "ipc_dataset = ipc_dataset.replace('of Indian penal code,','', regex=True)\n"
   ]
  },
  {
   "cell_type": "code",
   "execution_count": 14,
   "id": "7cdb0192-5109-4732-8670-29a04eee4720",
   "metadata": {},
   "outputs": [],
   "source": [
    "# Merge datasets on the common column (e.g., IPC section number)\n",
    "merged_dataset1 = pd.merge(fir_dataset, ipc_dataset, how='inner', on='Description')\n",
    "\n"
   ]
  },
  {
   "cell_type": "code",
   "execution_count": 15,
   "id": "685dcd2d-df63-43b4-94f9-ec8bfc77a491",
   "metadata": {},
   "outputs": [],
   "source": [
    "# merged_dataset = merged_dataset.dropna(subset = ['Description'])\n",
    "merged_dataset1 = merged_dataset1.dropna(subset = ['Description'])"
   ]
  },
  {
   "cell_type": "code",
   "execution_count": 16,
   "id": "f6f162ff-44fe-4d02-8dea-73a2adb33fea",
   "metadata": {},
   "outputs": [
    {
     "data": {
      "text/html": [
       "<div>\n",
       "<style scoped>\n",
       "    .dataframe tbody tr th:only-of-type {\n",
       "        vertical-align: middle;\n",
       "    }\n",
       "\n",
       "    .dataframe tbody tr th {\n",
       "        vertical-align: top;\n",
       "    }\n",
       "\n",
       "    .dataframe thead th {\n",
       "        text-align: right;\n",
       "    }\n",
       "</style>\n",
       "<table border=\"1\" class=\"dataframe\">\n",
       "  <thead>\n",
       "    <tr style=\"text-align: right;\">\n",
       "      <th></th>\n",
       "      <th>URL_x</th>\n",
       "      <th>Description</th>\n",
       "      <th>Offense_x</th>\n",
       "      <th>Punishment_x</th>\n",
       "      <th>Cognizable_x</th>\n",
       "      <th>Bailable_x</th>\n",
       "      <th>Court_x</th>\n",
       "      <th>URL_y</th>\n",
       "      <th>IPC-Section</th>\n",
       "      <th>Offense_y</th>\n",
       "      <th>Punishment_y</th>\n",
       "      <th>Cognizable_y</th>\n",
       "      <th>Bailable_y</th>\n",
       "      <th>Court_y</th>\n",
       "    </tr>\n",
       "  </thead>\n",
       "  <tbody>\n",
       "    <tr>\n",
       "      <th>0</th>\n",
       "      <td>https://lawrato.com/indian-kanoon/ipc/section-140</td>\n",
       "      <td>Whoever, not being a soldier, sailor or airma...</td>\n",
       "      <td>Wearing the dress or carrying any token used b...</td>\n",
       "      <td>3 Months or Fine or Both</td>\n",
       "      <td>Cognizable</td>\n",
       "      <td>Bailable</td>\n",
       "      <td>Any Magistrate</td>\n",
       "      <td>https://lawrato.com/indian-kanoon/ipc/section-140</td>\n",
       "      <td>140</td>\n",
       "      <td>Wearing the dress or carrying any token used b...</td>\n",
       "      <td>3 Months or Fine or Both</td>\n",
       "      <td>Cognizable</td>\n",
       "      <td>Bailable</td>\n",
       "      <td>Any Magistrate</td>\n",
       "    </tr>\n",
       "    <tr>\n",
       "      <th>1</th>\n",
       "      <td>https://lawrato.com/indian-kanoon/ipc/section-140</td>\n",
       "      <td>Whoever, not being a soldier, sailor or airma...</td>\n",
       "      <td>Wearing the dress or carrying any token used b...</td>\n",
       "      <td>3 Months or Fine or Both</td>\n",
       "      <td>Cognizable</td>\n",
       "      <td>Bailable</td>\n",
       "      <td>Any Magistrate</td>\n",
       "      <td>https://lawrato.com/indian-kanoon/ipc/section-140</td>\n",
       "      <td>140</td>\n",
       "      <td>Wearing the dress or carrying any token used b...</td>\n",
       "      <td>3 Months or Fine or Both</td>\n",
       "      <td>Cognizable</td>\n",
       "      <td>Bailable</td>\n",
       "      <td>Any Magistrate</td>\n",
       "    </tr>\n",
       "    <tr>\n",
       "      <th>2</th>\n",
       "      <td>https://lawrato.com/indian-kanoon/ipc/section-140</td>\n",
       "      <td>Whoever, not being a soldier, sailor or airma...</td>\n",
       "      <td>Wearing the dress or carrying any token used b...</td>\n",
       "      <td>3 Months or Fine or Both</td>\n",
       "      <td>Cognizable</td>\n",
       "      <td>Bailable</td>\n",
       "      <td>Any Magistrate</td>\n",
       "      <td>https://lawrato.com/indian-kanoon/ipc/section-140</td>\n",
       "      <td>140</td>\n",
       "      <td>Wearing the dress or carrying any token used b...</td>\n",
       "      <td>3 Months or Fine or Both</td>\n",
       "      <td>Cognizable</td>\n",
       "      <td>Bailable</td>\n",
       "      <td>Any Magistrate</td>\n",
       "    </tr>\n",
       "    <tr>\n",
       "      <th>3</th>\n",
       "      <td>https://lawrato.com/indian-kanoon/ipc/section-140</td>\n",
       "      <td>Whoever, not being a soldier, sailor or airma...</td>\n",
       "      <td>Wearing the dress or carrying any token used b...</td>\n",
       "      <td>3 Months or Fine or Both</td>\n",
       "      <td>Cognizable</td>\n",
       "      <td>Bailable</td>\n",
       "      <td>Any Magistrate</td>\n",
       "      <td>https://lawrato.com/indian-kanoon/ipc/section-140</td>\n",
       "      <td>140</td>\n",
       "      <td>Wearing the dress or carrying any token used b...</td>\n",
       "      <td>3 Months or Fine or Both</td>\n",
       "      <td>Cognizable</td>\n",
       "      <td>Bailable</td>\n",
       "      <td>Any Magistrate</td>\n",
       "    </tr>\n",
       "    <tr>\n",
       "      <th>4</th>\n",
       "      <td>https://lawrato.com/indian-kanoon/ipc/section-140</td>\n",
       "      <td>Whoever, not being a soldier, sailor or airma...</td>\n",
       "      <td>Wearing the dress or carrying any token used b...</td>\n",
       "      <td>3 Months or Fine or Both</td>\n",
       "      <td>Cognizable</td>\n",
       "      <td>Bailable</td>\n",
       "      <td>Any Magistrate</td>\n",
       "      <td>https://lawrato.com/indian-kanoon/ipc/section-140</td>\n",
       "      <td>140</td>\n",
       "      <td>Wearing the dress or carrying any token used b...</td>\n",
       "      <td>3 Months or Fine or Both</td>\n",
       "      <td>Cognizable</td>\n",
       "      <td>Bailable</td>\n",
       "      <td>Any Magistrate</td>\n",
       "    </tr>\n",
       "    <tr>\n",
       "      <th>...</th>\n",
       "      <td>...</td>\n",
       "      <td>...</td>\n",
       "      <td>...</td>\n",
       "      <td>...</td>\n",
       "      <td>...</td>\n",
       "      <td>...</td>\n",
       "      <td>...</td>\n",
       "      <td>...</td>\n",
       "      <td>...</td>\n",
       "      <td>...</td>\n",
       "      <td>...</td>\n",
       "      <td>...</td>\n",
       "      <td>...</td>\n",
       "      <td>...</td>\n",
       "    </tr>\n",
       "    <tr>\n",
       "      <th>75876</th>\n",
       "      <td>https://lawrato.com/indian-kanoon/ipc/section-511</td>\n",
       "      <td>Whoever attempts to commit an offence punisha...</td>\n",
       "      <td>Attempting to commit offences punishable with ...</td>\n",
       "      <td>Imprisonment for Life or Imprisonment not exce...</td>\n",
       "      <td>Same As for Offence attempted</td>\n",
       "      <td>Same As for Offence attempted</td>\n",
       "      <td>Same As for Offence attempted</td>\n",
       "      <td>https://lawrato.com/indian-kanoon/ipc/section-511</td>\n",
       "      <td>511</td>\n",
       "      <td>Attempting to commit offences punishable with ...</td>\n",
       "      <td>Imprisonment for Life or Imprisonment not exce...</td>\n",
       "      <td>Same As for Offence attempted</td>\n",
       "      <td>Same As for Offence attempted</td>\n",
       "      <td>Same As for Offence attempted</td>\n",
       "    </tr>\n",
       "    <tr>\n",
       "      <th>75877</th>\n",
       "      <td>https://lawrato.com/indian-kanoon/ipc/section-511</td>\n",
       "      <td>Whoever attempts to commit an offence punisha...</td>\n",
       "      <td>Attempting to commit offences punishable with ...</td>\n",
       "      <td>Imprisonment for Life or Imprisonment not exce...</td>\n",
       "      <td>Same As for Offence attempted</td>\n",
       "      <td>Same As for Offence attempted</td>\n",
       "      <td>Same As for Offence attempted</td>\n",
       "      <td>https://lawrato.com/indian-kanoon/ipc/section-511</td>\n",
       "      <td>511</td>\n",
       "      <td>Attempting to commit offences punishable with ...</td>\n",
       "      <td>Imprisonment for Life or Imprisonment not exce...</td>\n",
       "      <td>Same As for Offence attempted</td>\n",
       "      <td>Same As for Offence attempted</td>\n",
       "      <td>Same As for Offence attempted</td>\n",
       "    </tr>\n",
       "    <tr>\n",
       "      <th>75878</th>\n",
       "      <td>https://lawrato.com/indian-kanoon/ipc/section-511</td>\n",
       "      <td>Whoever attempts to commit an offence punisha...</td>\n",
       "      <td>Attempting to commit offences punishable with ...</td>\n",
       "      <td>Imprisonment for Life or Imprisonment not exce...</td>\n",
       "      <td>Same As for Offence attempted</td>\n",
       "      <td>Same As for Offence attempted</td>\n",
       "      <td>Same As for Offence attempted</td>\n",
       "      <td>https://lawrato.com/indian-kanoon/ipc/section-511</td>\n",
       "      <td>511</td>\n",
       "      <td>Attempting to commit offences punishable with ...</td>\n",
       "      <td>Imprisonment for Life or Imprisonment not exce...</td>\n",
       "      <td>Same As for Offence attempted</td>\n",
       "      <td>Same As for Offence attempted</td>\n",
       "      <td>Same As for Offence attempted</td>\n",
       "    </tr>\n",
       "    <tr>\n",
       "      <th>75879</th>\n",
       "      <td>https://lawrato.com/indian-kanoon/ipc/section-511</td>\n",
       "      <td>Whoever attempts to commit an offence punisha...</td>\n",
       "      <td>Attempting to commit offences punishable with ...</td>\n",
       "      <td>Imprisonment for Life or Imprisonment not exce...</td>\n",
       "      <td>Same As for Offence attempted</td>\n",
       "      <td>Same As for Offence attempted</td>\n",
       "      <td>Same As for Offence attempted</td>\n",
       "      <td>https://lawrato.com/indian-kanoon/ipc/section-511</td>\n",
       "      <td>511</td>\n",
       "      <td>Attempting to commit offences punishable with ...</td>\n",
       "      <td>Imprisonment for Life or Imprisonment not exce...</td>\n",
       "      <td>Same As for Offence attempted</td>\n",
       "      <td>Same As for Offence attempted</td>\n",
       "      <td>Same As for Offence attempted</td>\n",
       "    </tr>\n",
       "    <tr>\n",
       "      <th>75880</th>\n",
       "      <td>https://lawrato.com/indian-kanoon/ipc/section-511</td>\n",
       "      <td>Whoever attempts to commit an offence punisha...</td>\n",
       "      <td>Attempting to commit offences punishable with ...</td>\n",
       "      <td>Imprisonment for Life or Imprisonment not exce...</td>\n",
       "      <td>Same As for Offence attempted</td>\n",
       "      <td>Same As for Offence attempted</td>\n",
       "      <td>Same As for Offence attempted</td>\n",
       "      <td>https://lawrato.com/indian-kanoon/ipc/section-511</td>\n",
       "      <td>511</td>\n",
       "      <td>Attempting to commit offences punishable with ...</td>\n",
       "      <td>Imprisonment for Life or Imprisonment not exce...</td>\n",
       "      <td>Same As for Offence attempted</td>\n",
       "      <td>Same As for Offence attempted</td>\n",
       "      <td>Same As for Offence attempted</td>\n",
       "    </tr>\n",
       "  </tbody>\n",
       "</table>\n",
       "<p>75881 rows × 14 columns</p>\n",
       "</div>"
      ],
      "text/plain": [
       "                                                   URL_x   \n",
       "0      https://lawrato.com/indian-kanoon/ipc/section-140  \\\n",
       "1      https://lawrato.com/indian-kanoon/ipc/section-140   \n",
       "2      https://lawrato.com/indian-kanoon/ipc/section-140   \n",
       "3      https://lawrato.com/indian-kanoon/ipc/section-140   \n",
       "4      https://lawrato.com/indian-kanoon/ipc/section-140   \n",
       "...                                                  ...   \n",
       "75876  https://lawrato.com/indian-kanoon/ipc/section-511   \n",
       "75877  https://lawrato.com/indian-kanoon/ipc/section-511   \n",
       "75878  https://lawrato.com/indian-kanoon/ipc/section-511   \n",
       "75879  https://lawrato.com/indian-kanoon/ipc/section-511   \n",
       "75880  https://lawrato.com/indian-kanoon/ipc/section-511   \n",
       "\n",
       "                                             Description   \n",
       "0       Whoever, not being a soldier, sailor or airma...  \\\n",
       "1       Whoever, not being a soldier, sailor or airma...   \n",
       "2       Whoever, not being a soldier, sailor or airma...   \n",
       "3       Whoever, not being a soldier, sailor or airma...   \n",
       "4       Whoever, not being a soldier, sailor or airma...   \n",
       "...                                                  ...   \n",
       "75876   Whoever attempts to commit an offence punisha...   \n",
       "75877   Whoever attempts to commit an offence punisha...   \n",
       "75878   Whoever attempts to commit an offence punisha...   \n",
       "75879   Whoever attempts to commit an offence punisha...   \n",
       "75880   Whoever attempts to commit an offence punisha...   \n",
       "\n",
       "                                               Offense_x   \n",
       "0      Wearing the dress or carrying any token used b...  \\\n",
       "1      Wearing the dress or carrying any token used b...   \n",
       "2      Wearing the dress or carrying any token used b...   \n",
       "3      Wearing the dress or carrying any token used b...   \n",
       "4      Wearing the dress or carrying any token used b...   \n",
       "...                                                  ...   \n",
       "75876  Attempting to commit offences punishable with ...   \n",
       "75877  Attempting to commit offences punishable with ...   \n",
       "75878  Attempting to commit offences punishable with ...   \n",
       "75879  Attempting to commit offences punishable with ...   \n",
       "75880  Attempting to commit offences punishable with ...   \n",
       "\n",
       "                                            Punishment_x   \n",
       "0                               3 Months or Fine or Both  \\\n",
       "1                               3 Months or Fine or Both   \n",
       "2                               3 Months or Fine or Both   \n",
       "3                               3 Months or Fine or Both   \n",
       "4                               3 Months or Fine or Both   \n",
       "...                                                  ...   \n",
       "75876  Imprisonment for Life or Imprisonment not exce...   \n",
       "75877  Imprisonment for Life or Imprisonment not exce...   \n",
       "75878  Imprisonment for Life or Imprisonment not exce...   \n",
       "75879  Imprisonment for Life or Imprisonment not exce...   \n",
       "75880  Imprisonment for Life or Imprisonment not exce...   \n",
       "\n",
       "                        Cognizable_x                     Bailable_x   \n",
       "0                         Cognizable                       Bailable  \\\n",
       "1                         Cognizable                       Bailable   \n",
       "2                         Cognizable                       Bailable   \n",
       "3                         Cognizable                       Bailable   \n",
       "4                         Cognizable                       Bailable   \n",
       "...                              ...                            ...   \n",
       "75876  Same As for Offence attempted  Same As for Offence attempted   \n",
       "75877  Same As for Offence attempted  Same As for Offence attempted   \n",
       "75878  Same As for Offence attempted  Same As for Offence attempted   \n",
       "75879  Same As for Offence attempted  Same As for Offence attempted   \n",
       "75880  Same As for Offence attempted  Same As for Offence attempted   \n",
       "\n",
       "                             Court_x   \n",
       "0                     Any Magistrate  \\\n",
       "1                     Any Magistrate   \n",
       "2                     Any Magistrate   \n",
       "3                     Any Magistrate   \n",
       "4                     Any Magistrate   \n",
       "...                              ...   \n",
       "75876  Same As for Offence attempted   \n",
       "75877  Same As for Offence attempted   \n",
       "75878  Same As for Offence attempted   \n",
       "75879  Same As for Offence attempted   \n",
       "75880  Same As for Offence attempted   \n",
       "\n",
       "                                                   URL_y IPC-Section   \n",
       "0      https://lawrato.com/indian-kanoon/ipc/section-140         140  \\\n",
       "1      https://lawrato.com/indian-kanoon/ipc/section-140         140   \n",
       "2      https://lawrato.com/indian-kanoon/ipc/section-140         140   \n",
       "3      https://lawrato.com/indian-kanoon/ipc/section-140         140   \n",
       "4      https://lawrato.com/indian-kanoon/ipc/section-140         140   \n",
       "...                                                  ...         ...   \n",
       "75876  https://lawrato.com/indian-kanoon/ipc/section-511         511   \n",
       "75877  https://lawrato.com/indian-kanoon/ipc/section-511         511   \n",
       "75878  https://lawrato.com/indian-kanoon/ipc/section-511         511   \n",
       "75879  https://lawrato.com/indian-kanoon/ipc/section-511         511   \n",
       "75880  https://lawrato.com/indian-kanoon/ipc/section-511         511   \n",
       "\n",
       "                                               Offense_y   \n",
       "0      Wearing the dress or carrying any token used b...  \\\n",
       "1      Wearing the dress or carrying any token used b...   \n",
       "2      Wearing the dress or carrying any token used b...   \n",
       "3      Wearing the dress or carrying any token used b...   \n",
       "4      Wearing the dress or carrying any token used b...   \n",
       "...                                                  ...   \n",
       "75876  Attempting to commit offences punishable with ...   \n",
       "75877  Attempting to commit offences punishable with ...   \n",
       "75878  Attempting to commit offences punishable with ...   \n",
       "75879  Attempting to commit offences punishable with ...   \n",
       "75880  Attempting to commit offences punishable with ...   \n",
       "\n",
       "                                            Punishment_y   \n",
       "0                               3 Months or Fine or Both  \\\n",
       "1                               3 Months or Fine or Both   \n",
       "2                               3 Months or Fine or Both   \n",
       "3                               3 Months or Fine or Both   \n",
       "4                               3 Months or Fine or Both   \n",
       "...                                                  ...   \n",
       "75876  Imprisonment for Life or Imprisonment not exce...   \n",
       "75877  Imprisonment for Life or Imprisonment not exce...   \n",
       "75878  Imprisonment for Life or Imprisonment not exce...   \n",
       "75879  Imprisonment for Life or Imprisonment not exce...   \n",
       "75880  Imprisonment for Life or Imprisonment not exce...   \n",
       "\n",
       "                        Cognizable_y                     Bailable_y   \n",
       "0                         Cognizable                       Bailable  \\\n",
       "1                         Cognizable                       Bailable   \n",
       "2                         Cognizable                       Bailable   \n",
       "3                         Cognizable                       Bailable   \n",
       "4                         Cognizable                       Bailable   \n",
       "...                              ...                            ...   \n",
       "75876  Same As for Offence attempted  Same As for Offence attempted   \n",
       "75877  Same As for Offence attempted  Same As for Offence attempted   \n",
       "75878  Same As for Offence attempted  Same As for Offence attempted   \n",
       "75879  Same As for Offence attempted  Same As for Offence attempted   \n",
       "75880  Same As for Offence attempted  Same As for Offence attempted   \n",
       "\n",
       "                             Court_y  \n",
       "0                     Any Magistrate  \n",
       "1                     Any Magistrate  \n",
       "2                     Any Magistrate  \n",
       "3                     Any Magistrate  \n",
       "4                     Any Magistrate  \n",
       "...                              ...  \n",
       "75876  Same As for Offence attempted  \n",
       "75877  Same As for Offence attempted  \n",
       "75878  Same As for Offence attempted  \n",
       "75879  Same As for Offence attempted  \n",
       "75880  Same As for Offence attempted  \n",
       "\n",
       "[75881 rows x 14 columns]"
      ]
     },
     "execution_count": 16,
     "metadata": {},
     "output_type": "execute_result"
    }
   ],
   "source": [
    "merged_dataset1"
   ]
  },
  {
   "cell_type": "code",
   "execution_count": 17,
   "id": "665ebd2d-f791-4e49-a182-13f70cadfeaa",
   "metadata": {},
   "outputs": [],
   "source": [
    "# merged_dataset['IPC-Section'] = merged_dataset['IPC-Section'].astype(str)\n",
    "merged_dataset1['IPC-Section'] = merged_dataset1['IPC-Section'].astype(str)"
   ]
  },
  {
   "cell_type": "code",
   "execution_count": 18,
   "id": "719a05db-50af-4548-aee3-8056e5072c15",
   "metadata": {},
   "outputs": [
    {
     "data": {
      "text/plain": [
       "URL_x           object\n",
       "Description     object\n",
       "Offense_x       object\n",
       "Punishment_x    object\n",
       "Cognizable_x    object\n",
       "Bailable_x      object\n",
       "Court_x         object\n",
       "URL_y           object\n",
       "IPC-Section     object\n",
       "Offense_y       object\n",
       "Punishment_y    object\n",
       "Cognizable_y    object\n",
       "Bailable_y      object\n",
       "Court_y         object\n",
       "dtype: object"
      ]
     },
     "execution_count": 18,
     "metadata": {},
     "output_type": "execute_result"
    }
   ],
   "source": [
    "merged_dataset1.dtypes"
   ]
  },
  {
   "cell_type": "code",
   "execution_count": 19,
   "id": "fbb9ce12-4cf8-4ba4-aa3c-c2d781fdaec9",
   "metadata": {},
   "outputs": [],
   "source": [
    "# Split the data into training and testing sets\n",
    "X_train, X_test, y_train, y_test = train_test_split(merged_dataset1['Description'], merged_dataset1['IPC-Section'], test_size=0.2, random_state=42)\n",
    "\n"
   ]
  },
  {
   "cell_type": "code",
   "execution_count": 20,
   "id": "165da235-2616-4b7a-bbf5-729486f95bd5",
   "metadata": {},
   "outputs": [
    {
     "data": {
      "text/html": [
       "<style>#sk-container-id-1 {color: black;background-color: white;}#sk-container-id-1 pre{padding: 0;}#sk-container-id-1 div.sk-toggleable {background-color: white;}#sk-container-id-1 label.sk-toggleable__label {cursor: pointer;display: block;width: 100%;margin-bottom: 0;padding: 0.3em;box-sizing: border-box;text-align: center;}#sk-container-id-1 label.sk-toggleable__label-arrow:before {content: \"▸\";float: left;margin-right: 0.25em;color: #696969;}#sk-container-id-1 label.sk-toggleable__label-arrow:hover:before {color: black;}#sk-container-id-1 div.sk-estimator:hover label.sk-toggleable__label-arrow:before {color: black;}#sk-container-id-1 div.sk-toggleable__content {max-height: 0;max-width: 0;overflow: hidden;text-align: left;background-color: #f0f8ff;}#sk-container-id-1 div.sk-toggleable__content pre {margin: 0.2em;color: black;border-radius: 0.25em;background-color: #f0f8ff;}#sk-container-id-1 input.sk-toggleable__control:checked~div.sk-toggleable__content {max-height: 200px;max-width: 100%;overflow: auto;}#sk-container-id-1 input.sk-toggleable__control:checked~label.sk-toggleable__label-arrow:before {content: \"▾\";}#sk-container-id-1 div.sk-estimator input.sk-toggleable__control:checked~label.sk-toggleable__label {background-color: #d4ebff;}#sk-container-id-1 div.sk-label input.sk-toggleable__control:checked~label.sk-toggleable__label {background-color: #d4ebff;}#sk-container-id-1 input.sk-hidden--visually {border: 0;clip: rect(1px 1px 1px 1px);clip: rect(1px, 1px, 1px, 1px);height: 1px;margin: -1px;overflow: hidden;padding: 0;position: absolute;width: 1px;}#sk-container-id-1 div.sk-estimator {font-family: monospace;background-color: #f0f8ff;border: 1px dotted black;border-radius: 0.25em;box-sizing: border-box;margin-bottom: 0.5em;}#sk-container-id-1 div.sk-estimator:hover {background-color: #d4ebff;}#sk-container-id-1 div.sk-parallel-item::after {content: \"\";width: 100%;border-bottom: 1px solid gray;flex-grow: 1;}#sk-container-id-1 div.sk-label:hover label.sk-toggleable__label {background-color: #d4ebff;}#sk-container-id-1 div.sk-serial::before {content: \"\";position: absolute;border-left: 1px solid gray;box-sizing: border-box;top: 0;bottom: 0;left: 50%;z-index: 0;}#sk-container-id-1 div.sk-serial {display: flex;flex-direction: column;align-items: center;background-color: white;padding-right: 0.2em;padding-left: 0.2em;position: relative;}#sk-container-id-1 div.sk-item {position: relative;z-index: 1;}#sk-container-id-1 div.sk-parallel {display: flex;align-items: stretch;justify-content: center;background-color: white;position: relative;}#sk-container-id-1 div.sk-item::before, #sk-container-id-1 div.sk-parallel-item::before {content: \"\";position: absolute;border-left: 1px solid gray;box-sizing: border-box;top: 0;bottom: 0;left: 50%;z-index: -1;}#sk-container-id-1 div.sk-parallel-item {display: flex;flex-direction: column;z-index: 1;position: relative;background-color: white;}#sk-container-id-1 div.sk-parallel-item:first-child::after {align-self: flex-end;width: 50%;}#sk-container-id-1 div.sk-parallel-item:last-child::after {align-self: flex-start;width: 50%;}#sk-container-id-1 div.sk-parallel-item:only-child::after {width: 0;}#sk-container-id-1 div.sk-dashed-wrapped {border: 1px dashed gray;margin: 0 0.4em 0.5em 0.4em;box-sizing: border-box;padding-bottom: 0.4em;background-color: white;}#sk-container-id-1 div.sk-label label {font-family: monospace;font-weight: bold;display: inline-block;line-height: 1.2em;}#sk-container-id-1 div.sk-label-container {text-align: center;}#sk-container-id-1 div.sk-container {/* jupyter's `normalize.less` sets `[hidden] { display: none; }` but bootstrap.min.css set `[hidden] { display: none !important; }` so we also need the `!important` here to be able to override the default hidden behavior on the sphinx rendered scikit-learn.org. See: https://github.com/scikit-learn/scikit-learn/issues/21755 */display: inline-block !important;position: relative;}#sk-container-id-1 div.sk-text-repr-fallback {display: none;}</style><div id=\"sk-container-id-1\" class=\"sk-top-container\"><div class=\"sk-text-repr-fallback\"><pre>Pipeline(steps=[(&#x27;tfidfvectorizer&#x27;, TfidfVectorizer()),\n",
       "                (&#x27;multinomialnb&#x27;, MultinomialNB())])</pre><b>In a Jupyter environment, please rerun this cell to show the HTML representation or trust the notebook. <br />On GitHub, the HTML representation is unable to render, please try loading this page with nbviewer.org.</b></div><div class=\"sk-container\" hidden><div class=\"sk-item sk-dashed-wrapped\"><div class=\"sk-label-container\"><div class=\"sk-label sk-toggleable\"><input class=\"sk-toggleable__control sk-hidden--visually\" id=\"sk-estimator-id-1\" type=\"checkbox\" ><label for=\"sk-estimator-id-1\" class=\"sk-toggleable__label sk-toggleable__label-arrow\">Pipeline</label><div class=\"sk-toggleable__content\"><pre>Pipeline(steps=[(&#x27;tfidfvectorizer&#x27;, TfidfVectorizer()),\n",
       "                (&#x27;multinomialnb&#x27;, MultinomialNB())])</pre></div></div></div><div class=\"sk-serial\"><div class=\"sk-item\"><div class=\"sk-estimator sk-toggleable\"><input class=\"sk-toggleable__control sk-hidden--visually\" id=\"sk-estimator-id-2\" type=\"checkbox\" ><label for=\"sk-estimator-id-2\" class=\"sk-toggleable__label sk-toggleable__label-arrow\">TfidfVectorizer</label><div class=\"sk-toggleable__content\"><pre>TfidfVectorizer()</pre></div></div></div><div class=\"sk-item\"><div class=\"sk-estimator sk-toggleable\"><input class=\"sk-toggleable__control sk-hidden--visually\" id=\"sk-estimator-id-3\" type=\"checkbox\" ><label for=\"sk-estimator-id-3\" class=\"sk-toggleable__label sk-toggleable__label-arrow\">MultinomialNB</label><div class=\"sk-toggleable__content\"><pre>MultinomialNB()</pre></div></div></div></div></div></div></div>"
      ],
      "text/plain": [
       "Pipeline(steps=[('tfidfvectorizer', TfidfVectorizer()),\n",
       "                ('multinomialnb', MultinomialNB())])"
      ]
     },
     "execution_count": 20,
     "metadata": {},
     "output_type": "execute_result"
    }
   ],
   "source": [
    "# Build a text classification model using a pipeline\n",
    "model = make_pipeline(TfidfVectorizer(), MultinomialNB())\n",
    "model.fit(X_train, y_train)\n"
   ]
  },
  {
   "cell_type": "code",
   "execution_count": 21,
   "id": "d23d2f73-732c-4502-a8ce-a293427496aa",
   "metadata": {},
   "outputs": [],
   "source": [
    "\n",
    "# Predict IPC sections for the test set\n",
    "y_pred = model.predict(X_test)\n"
   ]
  },
  {
   "cell_type": "code",
   "execution_count": 22,
   "id": "49c222b3-c728-40dc-9b37-1c176adfb4f1",
   "metadata": {},
   "outputs": [
    {
     "name": "stdout",
     "output_type": "stream",
     "text": [
      "Accuracy: 0.9903142913619293\n"
     ]
    }
   ],
   "source": [
    "\n",
    "# Evaluate the model\n",
    "accuracy = metrics.accuracy_score(y_test, y_pred)\n",
    "print(f\"Accuracy: {accuracy}\")\n"
   ]
  },
  {
   "cell_type": "code",
   "execution_count": 64,
   "id": "f410a1fb-1d83-4c90-a2c0-1fb7e6884136",
   "metadata": {},
   "outputs": [],
   "source": [
    "pd.options.display.max_colwidth = 100\n",
    "def pre(text):\n",
    "    new_fir_texts = []\n",
    "    new_fir_texts.append(text)\n",
    "    predicted_ipc_sections = model.predict(new_fir_texts)\n",
    "    print(predicted_ipc_sections)\n",
    "    # print(ipc_dataset.loc[ipc_dataset['IPC-Section'] == \"376D\"].iloc[0])\n",
    "    x = ipc_dataset.loc[ipc_dataset['IPC-Section'] == predicted_ipc_sections[0]]\n",
    "    print(x)\n",
    "    x = x.drop_duplicates(ignore_index=True)\n",
    "    x = x[['Punishment','Cognizable','Bailable','Court']]\n",
    "    return (str(x['Punishment']).replace('0','').lstrip()).split('\\n')[0], predicted_ipc_sections[0], (str(x['Bailable']).replace('0','').lstrip()).split('\\n')[0], (str(x['Court']).replace('0','').lstrip()).split('\\n')[0] \n",
    "    "
   ]
  },
  {
   "cell_type": "code",
   "execution_count": 66,
   "id": "82fa9188-42c9-48f5-a4d6-9179cc907d05",
   "metadata": {},
   "outputs": [
    {
     "name": "stdout",
     "output_type": "stream",
     "text": [
      "['121A']\n",
      "URL                                                             https://lawrato.com/indian-kanoon/ipc/section-376D\n",
      "IPC-Section                                                                                                   376D\n",
      "Description     Where a woman is raped by one or more persons constituting a group or acting in furtherance of ...\n",
      "Offense                                                                                                  Gang rape\n",
      "Punishment           Rigorous Imprisonment for 20 years to Imprisonment for Natural-Life + Fine paid to the victim\n",
      "Cognizable                                                                                              Cognizable\n",
      "Bailable                                                                                              Non-bailable\n",
      "Court                                                                                             Court of Session\n",
      "Name: 298, dtype: object\n"
     ]
    }
   ],
   "source": [
    "punish,ipc,bail,court = pre(\"Conspiring to commit certain offences against the State\")\n",
    "# print(pre(\"Murder\"))"
   ]
  },
  {
   "cell_type": "code",
   "execution_count": 42,
   "id": "ee822ccd-40c5-40a3-a857-fe6c108aafca",
   "metadata": {},
   "outputs": [
    {
     "name": "stdout",
     "output_type": "stream",
     "text": [
      "Punishment is: Series([], Name: Punishment, dtype: object)\n"
     ]
    }
   ],
   "source": [
    "print('Punishment is:',punish)"
   ]
  },
  {
   "cell_type": "code",
   "execution_count": 43,
   "id": "76f04de0-f144-48ec-a549-380cf990299d",
   "metadata": {},
   "outputs": [
    {
     "name": "stdout",
     "output_type": "stream",
     "text": [
      "IPC Section is: 352\n"
     ]
    }
   ],
   "source": [
    "print('IPC Section is:',ipc)"
   ]
  },
  {
   "cell_type": "code",
   "execution_count": 44,
   "id": "b2004a8a-aa02-449c-9379-41c74d92a4ba",
   "metadata": {},
   "outputs": [
    {
     "name": "stdout",
     "output_type": "stream",
     "text": [
      "Is punishment bailable or not is: Series([], Name: Bailable, dtype: object)\n"
     ]
    }
   ],
   "source": [
    "print('Is punishment bailable or not is:',bail)"
   ]
  },
  {
   "cell_type": "code",
   "execution_count": 43,
   "id": "ad06f4df-12f6-4485-bef9-ba9f792b84d3",
   "metadata": {},
   "outputs": [
    {
     "name": "stdout",
     "output_type": "stream",
     "text": [
      "Court Required is: Series([], Name: Court, dtype: object)\n"
     ]
    }
   ],
   "source": [
    "print('Court Required is:',court)"
   ]
  },
  {
   "cell_type": "code",
   "execution_count": null,
   "id": "c8fd995b-e399-4e64-90c5-390bbaf6ba5c",
   "metadata": {},
   "outputs": [],
   "source": []
  }
 ],
 "metadata": {
  "kernelspec": {
   "display_name": "Python 3 (ipykernel)",
   "language": "python",
   "name": "python3"
  },
  "language_info": {
   "codemirror_mode": {
    "name": "ipython",
    "version": 3
   },
   "file_extension": ".py",
   "mimetype": "text/x-python",
   "name": "python",
   "nbconvert_exporter": "python",
   "pygments_lexer": "ipython3",
   "version": "3.11.2"
  }
 },
 "nbformat": 4,
 "nbformat_minor": 5
}
